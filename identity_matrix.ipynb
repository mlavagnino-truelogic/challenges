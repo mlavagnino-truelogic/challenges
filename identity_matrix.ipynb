{
  "nbformat": 4,
  "nbformat_minor": 0,
  "metadata": {
    "colab": {
      "name": "identity_matrix.ipynb",
      "provenance": [],
      "collapsed_sections": [],
      "include_colab_link": true
    },
    "kernelspec": {
      "name": "python3",
      "display_name": "Python 3"
    },
    "language_info": {
      "name": "python"
    }
  },
  "cells": [
    {
      "cell_type": "markdown",
      "metadata": {
        "id": "view-in-github",
        "colab_type": "text"
      },
      "source": [
        "<a href=\"https://colab.research.google.com/github/mlavagnino-truelogic/challenges/blob/main/identity_matrix.ipynb\" target=\"_parent\"><img src=\"https://colab.research.google.com/assets/colab-badge.svg\" alt=\"Open In Colab\"/></a>"
      ]
    },
    {
      "cell_type": "markdown",
      "metadata": {
        "id": "YpdMFRyG1Jjw"
      },
      "source": [
        "# Identity Matrix\n",
        "\n",
        "An identity matrix is defined as a square matrix with 1s running from the top left of the square to the bottom right.\n",
        "\n",
        "```\n",
        "[\n",
        "    [1,0,0],\n",
        "    [0,1,0],\n",
        "    [0,0,1],\n",
        "]\n",
        "```\n",
        "\n",
        "## The task\n",
        "\n",
        "Your assignement is to create a function `identity_matrix` that:\n",
        "\n",
        "- Takes an integer `n` and returns the identity matrix of `n x n` dimensions.\n",
        "- If the integer is negative, return **the mirror image** of the identity matrix of `n x n` dimensions.\n",
        "- Incompatible types passed as `n` should return the **string** `\"Error\"`.\n",
        "\n",
        "## Examples\n",
        "\n",
        "```\n",
        "identity_matrix(3) == [\n",
        "    [1,0,0],\n",
        "    [0,1,0],\n",
        "    [0,0,1],\n",
        "]\n",
        "\n",
        "identity_matrix(-3) == [\n",
        "    [0,0,1],\n",
        "    [0,1,0],\n",
        "    [1,0,0],\n",
        "]\n",
        "\n",
        "identity_matrix(0) == []\n",
        "\n",
        "identity_matrix(1.23) == \"Error\"\n",
        "```"
      ]
    },
    {
      "cell_type": "code",
      "metadata": {
        "id": "TrQMMOVh1H9i"
      },
      "source": [
        "\n",
        "def identity_matrix(n):\n",
        "\n",
        "    # Define your function here. Press SHIFT + ENTER to run your code.\n",
        "    matrix = None\n",
        "\n",
        "    return matrix\n",
        "\n",
        "\n",
        "\n",
        "\n",
        "\n",
        "\n",
        "\n",
        "\n",
        "\n",
        "\n",
        "\n",
        "# Test suite (do not edit)\n",
        "\n",
        "import unittest\n",
        "\n",
        "\n",
        "class TestIdentityMatrix(unittest.TestCase):\n",
        "    def test_base_cases(self):\n",
        "        self.assertEqual(identity_matrix(2), [[1, 0], [0, 1]])\n",
        "        self.assertEqual(identity_matrix(3), [[1, 0, 0], [0, 1, 0], [0, 0, 1]])\n",
        "        self.assertEqual(identity_matrix(0), [])\n",
        "\n",
        "    def test_negative_cases(self):\n",
        "        self.assertEqual(identity_matrix(-2), [[0, 1], [1, 0]])\n",
        "        self.assertEqual(\n",
        "            identity_matrix(-6),\n",
        "            [\n",
        "                [0, 0, 0, 0, 0, 1],\n",
        "                [0, 0, 0, 0, 1, 0],\n",
        "                [0, 0, 0, 1, 0, 0],\n",
        "                [0, 0, 1, 0, 0, 0],\n",
        "                [0, 1, 0, 0, 0, 0],\n",
        "                [1, 0, 0, 0, 0, 0],\n",
        "            ],\n",
        "        )\n",
        "\n",
        "    def test_type_checking(self):\n",
        "        self.assertEqual(\n",
        "            identity_matrix(0.2135),\n",
        "            \"Error\",\n",
        "            'Incompatible types passed as n should return the string \"Error\".',\n",
        "        )\n",
        "        self.assertEqual(\n",
        "            identity_matrix(\"-1\"),\n",
        "            \"Error\",\n",
        "            'Incompatible types passed as n should return the string \"Error\".',\n",
        "        )\n",
        "\n",
        "unittest.main(argv=[\"\"], verbosity=2, exit=False)\n"
      ],
      "execution_count": null,
      "outputs": []
    }
  ]
}